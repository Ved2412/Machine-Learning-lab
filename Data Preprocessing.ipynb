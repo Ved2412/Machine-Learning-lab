{
 "cells": [
  {
   "cell_type": "markdown",
   "metadata": {
    "papermill": {
     "duration": 0.02063,
     "end_time": "2020-10-26T02:34:50.780741",
     "exception": false,
     "start_time": "2020-10-26T02:34:50.760111",
     "status": "completed"
    },
    "tags": []
   },
   "source": [
    "**Data Preprocessing**"
   ]
  },
  {
   "cell_type": "markdown",
   "metadata": {
    "papermill": {
     "duration": 0.01925,
     "end_time": "2020-10-26T02:34:50.819673",
     "exception": false,
     "start_time": "2020-10-26T02:34:50.800423",
     "status": "completed"
    },
    "tags": []
   },
   "source": [
    "**The Data Preprocessing activities are as follows:-**"
   ]
  },
  {
   "cell_type": "code",
   "execution_count": 1,
   "metadata": {
    "_cell_guid": "79c7e3d0-c299-4dcb-8224-4455121ee9b0",
    "_uuid": "d629ff2d2480ee46fbb7e2d37f6b5fab8052498a",
    "execution": {
     "iopub.execute_input": "2020-10-26T02:34:50.865604Z",
     "iopub.status.busy": "2020-10-26T02:34:50.864851Z",
     "iopub.status.idle": "2020-10-26T02:34:51.843271Z",
     "shell.execute_reply": "2020-10-26T02:34:51.842479Z"
    },
    "papermill": {
     "duration": 1.002745,
     "end_time": "2020-10-26T02:34:51.843401",
     "exception": false,
     "start_time": "2020-10-26T02:34:50.840656",
     "status": "completed"
    },
    "tags": []
   },
   "outputs": [],
   "source": [
    "import pandas as pd\n",
    "import numpy as np\n",
    "from sklearn.preprocessing import MinMaxScaler\n"
   ]
  },
  {
   "cell_type": "markdown",
   "metadata": {
    "papermill": {
     "duration": 0.019212,
     "end_time": "2020-10-26T02:34:51.882455",
     "exception": false,
     "start_time": "2020-10-26T02:34:51.863243",
     "status": "completed"
    },
    "tags": []
   },
   "source": [
    "**1) Data Scaling using MinMaxScaler from Scikit-Learn**"
   ]
  },
  {
   "cell_type": "code",
   "execution_count": 2,
   "metadata": {
    "execution": {
     "iopub.execute_input": "2020-10-26T02:34:51.931572Z",
     "iopub.status.busy": "2020-10-26T02:34:51.930408Z",
     "iopub.status.idle": "2020-10-26T02:34:51.955074Z",
     "shell.execute_reply": "2020-10-26T02:34:51.954448Z"
    },
    "papermill": {
     "duration": 0.052325,
     "end_time": "2020-10-26T02:34:51.955209",
     "exception": false,
     "start_time": "2020-10-26T02:34:51.902884",
     "status": "completed"
    },
    "tags": []
   },
   "outputs": [
    {
     "data": {
      "text/html": [
       "<div>\n",
       "<style scoped>\n",
       "    .dataframe tbody tr th:only-of-type {\n",
       "        vertical-align: middle;\n",
       "    }\n",
       "\n",
       "    .dataframe tbody tr th {\n",
       "        vertical-align: top;\n",
       "    }\n",
       "\n",
       "    .dataframe thead th {\n",
       "        text-align: right;\n",
       "    }\n",
       "</style>\n",
       "<table border=\"1\" class=\"dataframe\">\n",
       "  <thead>\n",
       "    <tr style=\"text-align: right;\">\n",
       "      <th></th>\n",
       "      <th>Attendance</th>\n",
       "      <th>MSE</th>\n",
       "      <th>HRS</th>\n",
       "      <th>ESE</th>\n",
       "    </tr>\n",
       "  </thead>\n",
       "  <tbody>\n",
       "    <tr>\n",
       "      <th>0</th>\n",
       "      <td>70</td>\n",
       "      <td>10</td>\n",
       "      <td>17</td>\n",
       "      <td>42</td>\n",
       "    </tr>\n",
       "    <tr>\n",
       "      <th>1</th>\n",
       "      <td>92</td>\n",
       "      <td>7</td>\n",
       "      <td>20</td>\n",
       "      <td>39</td>\n",
       "    </tr>\n",
       "    <tr>\n",
       "      <th>2</th>\n",
       "      <td>67</td>\n",
       "      <td>3</td>\n",
       "      <td>18</td>\n",
       "      <td>32</td>\n",
       "    </tr>\n",
       "    <tr>\n",
       "      <th>3</th>\n",
       "      <td>82</td>\n",
       "      <td>16</td>\n",
       "      <td>13</td>\n",
       "      <td>50</td>\n",
       "    </tr>\n",
       "    <tr>\n",
       "      <th>4</th>\n",
       "      <td>80</td>\n",
       "      <td>9</td>\n",
       "      <td>10</td>\n",
       "      <td>44</td>\n",
       "    </tr>\n",
       "  </tbody>\n",
       "</table>\n",
       "</div>"
      ],
      "text/plain": [
       "   Attendance  MSE  HRS  ESE\n",
       "0          70   10   17   42\n",
       "1          92    7   20   39\n",
       "2          67    3   18   32\n",
       "3          82   16   13   50\n",
       "4          80    9   10   44"
      ]
     },
     "execution_count": 2,
     "metadata": {},
     "output_type": "execute_result"
    }
   ],
   "source": [
    "df= pd.read_csv('../input/ams-prediction/amsPredictionSheet11.csv')\n",
    "df.head()"
   ]
  },
  {
   "cell_type": "code",
   "execution_count": 3,
   "metadata": {
    "execution": {
     "iopub.execute_input": "2020-10-26T02:34:52.011480Z",
     "iopub.status.busy": "2020-10-26T02:34:52.010352Z",
     "iopub.status.idle": "2020-10-26T02:34:52.016065Z",
     "shell.execute_reply": "2020-10-26T02:34:52.015286Z"
    },
    "papermill": {
     "duration": 0.040398,
     "end_time": "2020-10-26T02:34:52.016197",
     "exception": false,
     "start_time": "2020-10-26T02:34:51.975799",
     "status": "completed"
    },
    "tags": []
   },
   "outputs": [
    {
     "data": {
      "text/html": [
       "<div>\n",
       "<style scoped>\n",
       "    .dataframe tbody tr th:only-of-type {\n",
       "        vertical-align: middle;\n",
       "    }\n",
       "\n",
       "    .dataframe tbody tr th {\n",
       "        vertical-align: top;\n",
       "    }\n",
       "\n",
       "    .dataframe thead th {\n",
       "        text-align: right;\n",
       "    }\n",
       "</style>\n",
       "<table border=\"1\" class=\"dataframe\">\n",
       "  <thead>\n",
       "    <tr style=\"text-align: right;\">\n",
       "      <th></th>\n",
       "      <th>0</th>\n",
       "      <th>1</th>\n",
       "      <th>2</th>\n",
       "      <th>3</th>\n",
       "    </tr>\n",
       "  </thead>\n",
       "  <tbody>\n",
       "    <tr>\n",
       "      <th>0</th>\n",
       "      <td>0.222222</td>\n",
       "      <td>0.500000</td>\n",
       "      <td>0.75</td>\n",
       "      <td>0.31250</td>\n",
       "    </tr>\n",
       "    <tr>\n",
       "      <th>1</th>\n",
       "      <td>0.833333</td>\n",
       "      <td>0.285714</td>\n",
       "      <td>0.90</td>\n",
       "      <td>0.21875</td>\n",
       "    </tr>\n",
       "    <tr>\n",
       "      <th>2</th>\n",
       "      <td>0.138889</td>\n",
       "      <td>0.000000</td>\n",
       "      <td>0.80</td>\n",
       "      <td>0.00000</td>\n",
       "    </tr>\n",
       "    <tr>\n",
       "      <th>3</th>\n",
       "      <td>0.555556</td>\n",
       "      <td>0.928571</td>\n",
       "      <td>0.55</td>\n",
       "      <td>0.56250</td>\n",
       "    </tr>\n",
       "    <tr>\n",
       "      <th>4</th>\n",
       "      <td>0.500000</td>\n",
       "      <td>0.428571</td>\n",
       "      <td>0.40</td>\n",
       "      <td>0.37500</td>\n",
       "    </tr>\n",
       "  </tbody>\n",
       "</table>\n",
       "</div>"
      ],
      "text/plain": [
       "          0         1     2        3\n",
       "0  0.222222  0.500000  0.75  0.31250\n",
       "1  0.833333  0.285714  0.90  0.21875\n",
       "2  0.138889  0.000000  0.80  0.00000\n",
       "3  0.555556  0.928571  0.55  0.56250\n",
       "4  0.500000  0.428571  0.40  0.37500"
      ]
     },
     "execution_count": 3,
     "metadata": {},
     "output_type": "execute_result"
    }
   ],
   "source": [
    "scaler = MinMaxScaler()\n",
    "df_values = df.values\n",
    "df_scaled = scaler.fit_transform(df_values)\n",
    "normalized_df = pd.DataFrame(df_scaled)\n",
    "normalized_df.head()"
   ]
  },
  {
   "cell_type": "code",
   "execution_count": 4,
   "metadata": {
    "execution": {
     "iopub.execute_input": "2020-10-26T02:34:52.068119Z",
     "iopub.status.busy": "2020-10-26T02:34:52.067360Z",
     "iopub.status.idle": "2020-10-26T02:34:52.087897Z",
     "shell.execute_reply": "2020-10-26T02:34:52.088425Z"
    },
    "papermill": {
     "duration": 0.050786,
     "end_time": "2020-10-26T02:34:52.088606",
     "exception": false,
     "start_time": "2020-10-26T02:34:52.037820",
     "status": "completed"
    },
    "tags": []
   },
   "outputs": [
    {
     "data": {
      "text/html": [
       "<div>\n",
       "<style scoped>\n",
       "    .dataframe tbody tr th:only-of-type {\n",
       "        vertical-align: middle;\n",
       "    }\n",
       "\n",
       "    .dataframe tbody tr th {\n",
       "        vertical-align: top;\n",
       "    }\n",
       "\n",
       "    .dataframe thead th {\n",
       "        text-align: right;\n",
       "    }\n",
       "</style>\n",
       "<table border=\"1\" class=\"dataframe\">\n",
       "  <thead>\n",
       "    <tr style=\"text-align: right;\">\n",
       "      <th></th>\n",
       "      <th>0</th>\n",
       "      <th>1</th>\n",
       "      <th>2</th>\n",
       "      <th>3</th>\n",
       "    </tr>\n",
       "  </thead>\n",
       "  <tbody>\n",
       "    <tr>\n",
       "      <th>count</th>\n",
       "      <td>73.000000</td>\n",
       "      <td>73.000000</td>\n",
       "      <td>73.000000</td>\n",
       "      <td>73.000000</td>\n",
       "    </tr>\n",
       "    <tr>\n",
       "      <th>mean</th>\n",
       "      <td>0.547184</td>\n",
       "      <td>0.484344</td>\n",
       "      <td>0.545205</td>\n",
       "      <td>0.457192</td>\n",
       "    </tr>\n",
       "    <tr>\n",
       "      <th>std</th>\n",
       "      <td>0.264079</td>\n",
       "      <td>0.217648</td>\n",
       "      <td>0.285064</td>\n",
       "      <td>0.206798</td>\n",
       "    </tr>\n",
       "    <tr>\n",
       "      <th>min</th>\n",
       "      <td>0.000000</td>\n",
       "      <td>0.000000</td>\n",
       "      <td>0.000000</td>\n",
       "      <td>0.000000</td>\n",
       "    </tr>\n",
       "    <tr>\n",
       "      <th>25%</th>\n",
       "      <td>0.361111</td>\n",
       "      <td>0.357143</td>\n",
       "      <td>0.300000</td>\n",
       "      <td>0.312500</td>\n",
       "    </tr>\n",
       "    <tr>\n",
       "      <th>50%</th>\n",
       "      <td>0.500000</td>\n",
       "      <td>0.500000</td>\n",
       "      <td>0.600000</td>\n",
       "      <td>0.468750</td>\n",
       "    </tr>\n",
       "    <tr>\n",
       "      <th>75%</th>\n",
       "      <td>0.777778</td>\n",
       "      <td>0.571429</td>\n",
       "      <td>0.800000</td>\n",
       "      <td>0.562500</td>\n",
       "    </tr>\n",
       "    <tr>\n",
       "      <th>max</th>\n",
       "      <td>1.000000</td>\n",
       "      <td>1.000000</td>\n",
       "      <td>1.000000</td>\n",
       "      <td>1.000000</td>\n",
       "    </tr>\n",
       "  </tbody>\n",
       "</table>\n",
       "</div>"
      ],
      "text/plain": [
       "               0          1          2          3\n",
       "count  73.000000  73.000000  73.000000  73.000000\n",
       "mean    0.547184   0.484344   0.545205   0.457192\n",
       "std     0.264079   0.217648   0.285064   0.206798\n",
       "min     0.000000   0.000000   0.000000   0.000000\n",
       "25%     0.361111   0.357143   0.300000   0.312500\n",
       "50%     0.500000   0.500000   0.600000   0.468750\n",
       "75%     0.777778   0.571429   0.800000   0.562500\n",
       "max     1.000000   1.000000   1.000000   1.000000"
      ]
     },
     "execution_count": 4,
     "metadata": {},
     "output_type": "execute_result"
    }
   ],
   "source": [
    "normalized_df.describe()"
   ]
  },
  {
   "cell_type": "markdown",
   "metadata": {
    "papermill": {
     "duration": 0.021395,
     "end_time": "2020-10-26T02:34:52.131790",
     "exception": false,
     "start_time": "2020-10-26T02:34:52.110395",
     "status": "completed"
    },
    "tags": []
   },
   "source": [
    "**2) Data Standardisation using StandardScaler from Scikit-Learn**"
   ]
  },
  {
   "cell_type": "code",
   "execution_count": 5,
   "metadata": {
    "execution": {
     "iopub.execute_input": "2020-10-26T02:34:52.191198Z",
     "iopub.status.busy": "2020-10-26T02:34:52.190303Z",
     "iopub.status.idle": "2020-10-26T02:34:52.194841Z",
     "shell.execute_reply": "2020-10-26T02:34:52.195370Z"
    },
    "papermill": {
     "duration": 0.041943,
     "end_time": "2020-10-26T02:34:52.195534",
     "exception": false,
     "start_time": "2020-10-26T02:34:52.153591",
     "status": "completed"
    },
    "tags": []
   },
   "outputs": [
    {
     "data": {
      "text/html": [
       "<div>\n",
       "<style scoped>\n",
       "    .dataframe tbody tr th:only-of-type {\n",
       "        vertical-align: middle;\n",
       "    }\n",
       "\n",
       "    .dataframe tbody tr th {\n",
       "        vertical-align: top;\n",
       "    }\n",
       "\n",
       "    .dataframe thead th {\n",
       "        text-align: right;\n",
       "    }\n",
       "</style>\n",
       "<table border=\"1\" class=\"dataframe\">\n",
       "  <thead>\n",
       "    <tr style=\"text-align: right;\">\n",
       "      <th></th>\n",
       "      <th>0</th>\n",
       "      <th>1</th>\n",
       "      <th>2</th>\n",
       "      <th>3</th>\n",
       "    </tr>\n",
       "  </thead>\n",
       "  <tbody>\n",
       "    <tr>\n",
       "      <th>0</th>\n",
       "      <td>-1.239064</td>\n",
       "      <td>0.072429</td>\n",
       "      <td>0.723388</td>\n",
       "      <td>-0.704518</td>\n",
       "    </tr>\n",
       "    <tr>\n",
       "      <th>1</th>\n",
       "      <td>1.091073</td>\n",
       "      <td>-0.918938</td>\n",
       "      <td>1.253227</td>\n",
       "      <td>-1.160996</td>\n",
       "    </tr>\n",
       "    <tr>\n",
       "      <th>2</th>\n",
       "      <td>-1.556810</td>\n",
       "      <td>-2.240760</td>\n",
       "      <td>0.900001</td>\n",
       "      <td>-2.226111</td>\n",
       "    </tr>\n",
       "    <tr>\n",
       "      <th>3</th>\n",
       "      <td>0.031920</td>\n",
       "      <td>2.055161</td>\n",
       "      <td>0.016936</td>\n",
       "      <td>0.512756</td>\n",
       "    </tr>\n",
       "    <tr>\n",
       "      <th>4</th>\n",
       "      <td>-0.179911</td>\n",
       "      <td>-0.258027</td>\n",
       "      <td>-0.512904</td>\n",
       "      <td>-0.400200</td>\n",
       "    </tr>\n",
       "  </tbody>\n",
       "</table>\n",
       "</div>"
      ],
      "text/plain": [
       "          0         1         2         3\n",
       "0 -1.239064  0.072429  0.723388 -0.704518\n",
       "1  1.091073 -0.918938  1.253227 -1.160996\n",
       "2 -1.556810 -2.240760  0.900001 -2.226111\n",
       "3  0.031920  2.055161  0.016936  0.512756\n",
       "4 -0.179911 -0.258027 -0.512904 -0.400200"
      ]
     },
     "execution_count": 5,
     "metadata": {},
     "output_type": "execute_result"
    }
   ],
   "source": [
    "from sklearn.preprocessing import  StandardScaler\n",
    "std_scaler = StandardScaler()\n",
    "df_values = df.values\n",
    "df_std= std_scaler.fit_transform(df_values)\n",
    "standardized_df = pd.DataFrame(df_std)\n",
    "standardized_df.head()"
   ]
  },
  {
   "cell_type": "code",
   "execution_count": 6,
   "metadata": {
    "execution": {
     "iopub.execute_input": "2020-10-26T02:34:52.266991Z",
     "iopub.status.busy": "2020-10-26T02:34:52.255053Z",
     "iopub.status.idle": "2020-10-26T02:34:52.271508Z",
     "shell.execute_reply": "2020-10-26T02:34:52.270775Z"
    },
    "papermill": {
     "duration": 0.053471,
     "end_time": "2020-10-26T02:34:52.271689",
     "exception": false,
     "start_time": "2020-10-26T02:34:52.218218",
     "status": "completed"
    },
    "tags": []
   },
   "outputs": [
    {
     "data": {
      "text/html": [
       "<div>\n",
       "<style scoped>\n",
       "    .dataframe tbody tr th:only-of-type {\n",
       "        vertical-align: middle;\n",
       "    }\n",
       "\n",
       "    .dataframe tbody tr th {\n",
       "        vertical-align: top;\n",
       "    }\n",
       "\n",
       "    .dataframe thead th {\n",
       "        text-align: right;\n",
       "    }\n",
       "</style>\n",
       "<table border=\"1\" class=\"dataframe\">\n",
       "  <thead>\n",
       "    <tr style=\"text-align: right;\">\n",
       "      <th></th>\n",
       "      <th>0</th>\n",
       "      <th>1</th>\n",
       "      <th>2</th>\n",
       "      <th>3</th>\n",
       "    </tr>\n",
       "  </thead>\n",
       "  <tbody>\n",
       "    <tr>\n",
       "      <th>count</th>\n",
       "      <td>7.300000e+01</td>\n",
       "      <td>7.300000e+01</td>\n",
       "      <td>7.300000e+01</td>\n",
       "      <td>7.300000e+01</td>\n",
       "    </tr>\n",
       "    <tr>\n",
       "      <th>mean</th>\n",
       "      <td>5.718409e-16</td>\n",
       "      <td>3.239418e-16</td>\n",
       "      <td>1.338351e-16</td>\n",
       "      <td>-5.201319e-16</td>\n",
       "    </tr>\n",
       "    <tr>\n",
       "      <th>std</th>\n",
       "      <td>1.006920e+00</td>\n",
       "      <td>1.006920e+00</td>\n",
       "      <td>1.006920e+00</td>\n",
       "      <td>1.006920e+00</td>\n",
       "    </tr>\n",
       "    <tr>\n",
       "      <th>min</th>\n",
       "      <td>-2.086386e+00</td>\n",
       "      <td>-2.240760e+00</td>\n",
       "      <td>-1.925809e+00</td>\n",
       "      <td>-2.226111e+00</td>\n",
       "    </tr>\n",
       "    <tr>\n",
       "      <th>25%</th>\n",
       "      <td>-7.094874e-01</td>\n",
       "      <td>-5.884823e-01</td>\n",
       "      <td>-8.661302e-01</td>\n",
       "      <td>-7.045184e-01</td>\n",
       "    </tr>\n",
       "    <tr>\n",
       "      <th>50%</th>\n",
       "      <td>-1.799109e-01</td>\n",
       "      <td>7.242860e-02</td>\n",
       "      <td>1.935486e-01</td>\n",
       "      <td>5.627810e-02</td>\n",
       "    </tr>\n",
       "    <tr>\n",
       "      <th>75%</th>\n",
       "      <td>8.792420e-01</td>\n",
       "      <td>4.028841e-01</td>\n",
       "      <td>9.000012e-01</td>\n",
       "      <td>5.127560e-01</td>\n",
       "    </tr>\n",
       "    <tr>\n",
       "      <th>max</th>\n",
       "      <td>1.726564e+00</td>\n",
       "      <td>2.385617e+00</td>\n",
       "      <td>1.606454e+00</td>\n",
       "      <td>2.642986e+00</td>\n",
       "    </tr>\n",
       "  </tbody>\n",
       "</table>\n",
       "</div>"
      ],
      "text/plain": [
       "                  0             1             2             3\n",
       "count  7.300000e+01  7.300000e+01  7.300000e+01  7.300000e+01\n",
       "mean   5.718409e-16  3.239418e-16  1.338351e-16 -5.201319e-16\n",
       "std    1.006920e+00  1.006920e+00  1.006920e+00  1.006920e+00\n",
       "min   -2.086386e+00 -2.240760e+00 -1.925809e+00 -2.226111e+00\n",
       "25%   -7.094874e-01 -5.884823e-01 -8.661302e-01 -7.045184e-01\n",
       "50%   -1.799109e-01  7.242860e-02  1.935486e-01  5.627810e-02\n",
       "75%    8.792420e-01  4.028841e-01  9.000012e-01  5.127560e-01\n",
       "max    1.726564e+00  2.385617e+00  1.606454e+00  2.642986e+00"
      ]
     },
     "execution_count": 6,
     "metadata": {},
     "output_type": "execute_result"
    }
   ],
   "source": [
    "standardized_df.describe()"
   ]
  },
  {
   "cell_type": "code",
   "execution_count": 7,
   "metadata": {
    "execution": {
     "iopub.execute_input": "2020-10-26T02:34:52.344530Z",
     "iopub.status.busy": "2020-10-26T02:34:52.333490Z",
     "iopub.status.idle": "2020-10-26T02:34:52.349105Z",
     "shell.execute_reply": "2020-10-26T02:34:52.348436Z"
    },
    "papermill": {
     "duration": 0.054078,
     "end_time": "2020-10-26T02:34:52.349235",
     "exception": false,
     "start_time": "2020-10-26T02:34:52.295157",
     "status": "completed"
    },
    "tags": []
   },
   "outputs": [
    {
     "data": {
      "text/html": [
       "<div>\n",
       "<style scoped>\n",
       "    .dataframe tbody tr th:only-of-type {\n",
       "        vertical-align: middle;\n",
       "    }\n",
       "\n",
       "    .dataframe tbody tr th {\n",
       "        vertical-align: top;\n",
       "    }\n",
       "\n",
       "    .dataframe thead th {\n",
       "        text-align: right;\n",
       "    }\n",
       "</style>\n",
       "<table border=\"1\" class=\"dataframe\">\n",
       "  <thead>\n",
       "    <tr style=\"text-align: right;\">\n",
       "      <th></th>\n",
       "      <th>0</th>\n",
       "      <th>1</th>\n",
       "      <th>2</th>\n",
       "      <th>3</th>\n",
       "    </tr>\n",
       "  </thead>\n",
       "  <tbody>\n",
       "    <tr>\n",
       "      <th>count</th>\n",
       "      <td>73.000000</td>\n",
       "      <td>73.000000</td>\n",
       "      <td>73.000000</td>\n",
       "      <td>73.000000</td>\n",
       "    </tr>\n",
       "    <tr>\n",
       "      <th>mean</th>\n",
       "      <td>0.547184</td>\n",
       "      <td>0.484344</td>\n",
       "      <td>0.545205</td>\n",
       "      <td>0.457192</td>\n",
       "    </tr>\n",
       "    <tr>\n",
       "      <th>std</th>\n",
       "      <td>0.264079</td>\n",
       "      <td>0.217648</td>\n",
       "      <td>0.285064</td>\n",
       "      <td>0.206798</td>\n",
       "    </tr>\n",
       "    <tr>\n",
       "      <th>min</th>\n",
       "      <td>0.000000</td>\n",
       "      <td>0.000000</td>\n",
       "      <td>0.000000</td>\n",
       "      <td>0.000000</td>\n",
       "    </tr>\n",
       "    <tr>\n",
       "      <th>25%</th>\n",
       "      <td>0.361111</td>\n",
       "      <td>0.357143</td>\n",
       "      <td>0.300000</td>\n",
       "      <td>0.312500</td>\n",
       "    </tr>\n",
       "    <tr>\n",
       "      <th>50%</th>\n",
       "      <td>0.500000</td>\n",
       "      <td>0.500000</td>\n",
       "      <td>0.600000</td>\n",
       "      <td>0.468750</td>\n",
       "    </tr>\n",
       "    <tr>\n",
       "      <th>75%</th>\n",
       "      <td>0.777778</td>\n",
       "      <td>0.571429</td>\n",
       "      <td>0.800000</td>\n",
       "      <td>0.562500</td>\n",
       "    </tr>\n",
       "    <tr>\n",
       "      <th>max</th>\n",
       "      <td>1.000000</td>\n",
       "      <td>1.000000</td>\n",
       "      <td>1.000000</td>\n",
       "      <td>1.000000</td>\n",
       "    </tr>\n",
       "  </tbody>\n",
       "</table>\n",
       "</div>"
      ],
      "text/plain": [
       "               0          1          2          3\n",
       "count  73.000000  73.000000  73.000000  73.000000\n",
       "mean    0.547184   0.484344   0.545205   0.457192\n",
       "std     0.264079   0.217648   0.285064   0.206798\n",
       "min     0.000000   0.000000   0.000000   0.000000\n",
       "25%     0.361111   0.357143   0.300000   0.312500\n",
       "50%     0.500000   0.500000   0.600000   0.468750\n",
       "75%     0.777778   0.571429   0.800000   0.562500\n",
       "max     1.000000   1.000000   1.000000   1.000000"
      ]
     },
     "execution_count": 7,
     "metadata": {},
     "output_type": "execute_result"
    }
   ],
   "source": [
    "normalized_df.describe()"
   ]
  },
  {
   "cell_type": "markdown",
   "metadata": {
    "papermill": {
     "duration": 0.02371,
     "end_time": "2020-10-26T02:34:52.397286",
     "exception": false,
     "start_time": "2020-10-26T02:34:52.373576",
     "status": "completed"
    },
    "tags": []
   },
   "source": [
    "**Categorical Data**"
   ]
  },
  {
   "cell_type": "markdown",
   "metadata": {
    "papermill": {
     "duration": 0.02377,
     "end_time": "2020-10-26T02:34:52.445189",
     "exception": false,
     "start_time": "2020-10-26T02:34:52.421419",
     "status": "completed"
    },
    "tags": []
   },
   "source": [
    "**3) Converting Categorical Data to Numeric data through Replacing values**"
   ]
  },
  {
   "cell_type": "code",
   "execution_count": 8,
   "metadata": {
    "execution": {
     "iopub.execute_input": "2020-10-26T02:34:52.502718Z",
     "iopub.status.busy": "2020-10-26T02:34:52.501815Z",
     "iopub.status.idle": "2020-10-26T02:34:52.515275Z",
     "shell.execute_reply": "2020-10-26T02:34:52.514532Z"
    },
    "papermill": {
     "duration": 0.045918,
     "end_time": "2020-10-26T02:34:52.515399",
     "exception": false,
     "start_time": "2020-10-26T02:34:52.469481",
     "status": "completed"
    },
    "tags": []
   },
   "outputs": [
    {
     "data": {
      "text/html": [
       "<div>\n",
       "<style scoped>\n",
       "    .dataframe tbody tr th:only-of-type {\n",
       "        vertical-align: middle;\n",
       "    }\n",
       "\n",
       "    .dataframe tbody tr th {\n",
       "        vertical-align: top;\n",
       "    }\n",
       "\n",
       "    .dataframe thead th {\n",
       "        text-align: right;\n",
       "    }\n",
       "</style>\n",
       "<table border=\"1\" class=\"dataframe\">\n",
       "  <thead>\n",
       "    <tr style=\"text-align: right;\">\n",
       "      <th></th>\n",
       "      <th>RNO</th>\n",
       "      <th>State</th>\n",
       "      <th>Category</th>\n",
       "      <th>Gender</th>\n",
       "    </tr>\n",
       "  </thead>\n",
       "  <tbody>\n",
       "    <tr>\n",
       "      <th>0</th>\n",
       "      <td>20150601</td>\n",
       "      <td>Maharashtra</td>\n",
       "      <td>OBC</td>\n",
       "      <td>F</td>\n",
       "    </tr>\n",
       "    <tr>\n",
       "      <th>1</th>\n",
       "      <td>20150602</td>\n",
       "      <td>Maharashtra</td>\n",
       "      <td>SC</td>\n",
       "      <td>M</td>\n",
       "    </tr>\n",
       "    <tr>\n",
       "      <th>2</th>\n",
       "      <td>20150603</td>\n",
       "      <td>Maharashtra</td>\n",
       "      <td>ST</td>\n",
       "      <td>M</td>\n",
       "    </tr>\n",
       "    <tr>\n",
       "      <th>3</th>\n",
       "      <td>20150604</td>\n",
       "      <td>JK</td>\n",
       "      <td>GEN</td>\n",
       "      <td>F</td>\n",
       "    </tr>\n",
       "    <tr>\n",
       "      <th>4</th>\n",
       "      <td>20150605</td>\n",
       "      <td>Nagaland</td>\n",
       "      <td>GEN</td>\n",
       "      <td>M</td>\n",
       "    </tr>\n",
       "  </tbody>\n",
       "</table>\n",
       "</div>"
      ],
      "text/plain": [
       "        RNO        State Category Gender\n",
       "0  20150601  Maharashtra      OBC      F\n",
       "1  20150602  Maharashtra       SC      M\n",
       "2  20150603  Maharashtra       ST      M\n",
       "3  20150604           JK      GEN      F\n",
       "4  20150605     Nagaland      GEN      M"
      ]
     },
     "execution_count": 8,
     "metadata": {},
     "output_type": "execute_result"
    }
   ],
   "source": [
    "df= pd.read_csv('../input/std-cat/std cat.csv')\n",
    "df.head()"
   ]
  },
  {
   "cell_type": "code",
   "execution_count": 9,
   "metadata": {
    "execution": {
     "iopub.execute_input": "2020-10-26T02:34:52.579201Z",
     "iopub.status.busy": "2020-10-26T02:34:52.578395Z",
     "iopub.status.idle": "2020-10-26T02:34:52.583042Z",
     "shell.execute_reply": "2020-10-26T02:34:52.581886Z"
    },
    "papermill": {
     "duration": 0.043107,
     "end_time": "2020-10-26T02:34:52.583227",
     "exception": false,
     "start_time": "2020-10-26T02:34:52.540120",
     "status": "completed"
    },
    "tags": []
   },
   "outputs": [
    {
     "name": "stdout",
     "output_type": "stream",
     "text": [
      "<class 'pandas.core.frame.DataFrame'>\n",
      "RangeIndex: 5 entries, 0 to 4\n",
      "Data columns (total 4 columns):\n",
      " #   Column    Non-Null Count  Dtype \n",
      "---  ------    --------------  ----- \n",
      " 0   RNO       5 non-null      int64 \n",
      " 1   State     5 non-null      object\n",
      " 2   Category  5 non-null      object\n",
      " 3   Gender    5 non-null      object\n",
      "dtypes: int64(1), object(3)\n",
      "memory usage: 288.0+ bytes\n"
     ]
    }
   ],
   "source": [
    "df.info()"
   ]
  },
  {
   "cell_type": "code",
   "execution_count": 10,
   "metadata": {
    "execution": {
     "iopub.execute_input": "2020-10-26T02:34:52.641861Z",
     "iopub.status.busy": "2020-10-26T02:34:52.641061Z",
     "iopub.status.idle": "2020-10-26T02:34:52.711206Z",
     "shell.execute_reply": "2020-10-26T02:34:52.710426Z"
    },
    "papermill": {
     "duration": 0.101259,
     "end_time": "2020-10-26T02:34:52.711342",
     "exception": false,
     "start_time": "2020-10-26T02:34:52.610083",
     "status": "completed"
    },
    "tags": []
   },
   "outputs": [
    {
     "ename": "NameError",
     "evalue": "name 'new' is not defined",
     "output_type": "error",
     "traceback": [
      "\u001b[0;31m---------------------------------------------------------------------------\u001b[0m",
      "\u001b[0;31mNameError\u001b[0m                                 Traceback (most recent call last)",
      "\u001b[0;32m<ipython-input-10-e7b87fac4003>\u001b[0m in \u001b[0;36m<module>\u001b[0;34m\u001b[0m\n\u001b[1;32m      1\u001b[0m \u001b[0mew\u001b[0m\u001b[0;34m=\u001b[0m\u001b[0;34m{\u001b[0m\u001b[0;34m'F'\u001b[0m\u001b[0;34m:\u001b[0m\u001b[0;36m0\u001b[0m\u001b[0;34m,\u001b[0m\u001b[0;34m'M'\u001b[0m\u001b[0;34m:\u001b[0m\u001b[0;36m1\u001b[0m\u001b[0;34m}\u001b[0m\u001b[0;34m\u001b[0m\u001b[0;34m\u001b[0m\u001b[0m\n\u001b[0;32m----> 2\u001b[0;31m \u001b[0mdf\u001b[0m\u001b[0;34m=\u001b[0m\u001b[0mdf\u001b[0m\u001b[0;34m.\u001b[0m\u001b[0mreplace\u001b[0m\u001b[0;34m(\u001b[0m\u001b[0;34m{\u001b[0m\u001b[0;34m'Gender'\u001b[0m\u001b[0;34m:\u001b[0m\u001b[0mnew\u001b[0m\u001b[0;34m}\u001b[0m\u001b[0;34m)\u001b[0m\u001b[0;34m\u001b[0m\u001b[0;34m\u001b[0m\u001b[0m\n\u001b[0m\u001b[1;32m      3\u001b[0m \u001b[0mdf\u001b[0m\u001b[0;34m.\u001b[0m\u001b[0minfo\u001b[0m\u001b[0;34m(\u001b[0m\u001b[0;34m)\u001b[0m\u001b[0;34m\u001b[0m\u001b[0;34m\u001b[0m\u001b[0m\n",
      "\u001b[0;31mNameError\u001b[0m: name 'new' is not defined"
     ]
    }
   ],
   "source": [
    "ew={'F':0,'M':1}\n",
    "df=df.replace({'Gender':new})\n",
    "df.info()"
   ]
  },
  {
   "cell_type": "code",
   "execution_count": 11,
   "metadata": {
    "execution": {
     "iopub.execute_input": "2020-10-26T02:34:52.778860Z",
     "iopub.status.busy": "2020-10-26T02:34:52.777774Z",
     "iopub.status.idle": "2020-10-26T02:34:52.782450Z",
     "shell.execute_reply": "2020-10-26T02:34:52.781419Z"
    },
    "papermill": {
     "duration": 0.045114,
     "end_time": "2020-10-26T02:34:52.782662",
     "exception": false,
     "start_time": "2020-10-26T02:34:52.737548",
     "status": "completed"
    },
    "tags": []
   },
   "outputs": [
    {
     "data": {
      "text/html": [
       "<div>\n",
       "<style scoped>\n",
       "    .dataframe tbody tr th:only-of-type {\n",
       "        vertical-align: middle;\n",
       "    }\n",
       "\n",
       "    .dataframe tbody tr th {\n",
       "        vertical-align: top;\n",
       "    }\n",
       "\n",
       "    .dataframe thead th {\n",
       "        text-align: right;\n",
       "    }\n",
       "</style>\n",
       "<table border=\"1\" class=\"dataframe\">\n",
       "  <thead>\n",
       "    <tr style=\"text-align: right;\">\n",
       "      <th></th>\n",
       "      <th>RNO</th>\n",
       "    </tr>\n",
       "  </thead>\n",
       "  <tbody>\n",
       "    <tr>\n",
       "      <th>count</th>\n",
       "      <td>5.000000e+00</td>\n",
       "    </tr>\n",
       "    <tr>\n",
       "      <th>mean</th>\n",
       "      <td>2.015060e+07</td>\n",
       "    </tr>\n",
       "    <tr>\n",
       "      <th>std</th>\n",
       "      <td>1.581139e+00</td>\n",
       "    </tr>\n",
       "    <tr>\n",
       "      <th>min</th>\n",
       "      <td>2.015060e+07</td>\n",
       "    </tr>\n",
       "    <tr>\n",
       "      <th>25%</th>\n",
       "      <td>2.015060e+07</td>\n",
       "    </tr>\n",
       "    <tr>\n",
       "      <th>50%</th>\n",
       "      <td>2.015060e+07</td>\n",
       "    </tr>\n",
       "    <tr>\n",
       "      <th>75%</th>\n",
       "      <td>2.015060e+07</td>\n",
       "    </tr>\n",
       "    <tr>\n",
       "      <th>max</th>\n",
       "      <td>2.015060e+07</td>\n",
       "    </tr>\n",
       "  </tbody>\n",
       "</table>\n",
       "</div>"
      ],
      "text/plain": [
       "                RNO\n",
       "count  5.000000e+00\n",
       "mean   2.015060e+07\n",
       "std    1.581139e+00\n",
       "min    2.015060e+07\n",
       "25%    2.015060e+07\n",
       "50%    2.015060e+07\n",
       "75%    2.015060e+07\n",
       "max    2.015060e+07"
      ]
     },
     "execution_count": 11,
     "metadata": {},
     "output_type": "execute_result"
    }
   ],
   "source": [
    "df.describe()"
   ]
  },
  {
   "cell_type": "code",
   "execution_count": 12,
   "metadata": {
    "execution": {
     "iopub.execute_input": "2020-10-26T02:34:52.849711Z",
     "iopub.status.busy": "2020-10-26T02:34:52.848819Z",
     "iopub.status.idle": "2020-10-26T02:34:52.853399Z",
     "shell.execute_reply": "2020-10-26T02:34:52.852796Z"
    },
    "papermill": {
     "duration": 0.043458,
     "end_time": "2020-10-26T02:34:52.853535",
     "exception": false,
     "start_time": "2020-10-26T02:34:52.810077",
     "status": "completed"
    },
    "tags": []
   },
   "outputs": [
    {
     "data": {
      "text/html": [
       "<div>\n",
       "<style scoped>\n",
       "    .dataframe tbody tr th:only-of-type {\n",
       "        vertical-align: middle;\n",
       "    }\n",
       "\n",
       "    .dataframe tbody tr th {\n",
       "        vertical-align: top;\n",
       "    }\n",
       "\n",
       "    .dataframe thead th {\n",
       "        text-align: right;\n",
       "    }\n",
       "</style>\n",
       "<table border=\"1\" class=\"dataframe\">\n",
       "  <thead>\n",
       "    <tr style=\"text-align: right;\">\n",
       "      <th></th>\n",
       "      <th>RNO</th>\n",
       "      <th>State</th>\n",
       "      <th>Category</th>\n",
       "      <th>Gender</th>\n",
       "    </tr>\n",
       "  </thead>\n",
       "  <tbody>\n",
       "    <tr>\n",
       "      <th>0</th>\n",
       "      <td>20150601</td>\n",
       "      <td>Maharashtra</td>\n",
       "      <td>OBC</td>\n",
       "      <td>F</td>\n",
       "    </tr>\n",
       "    <tr>\n",
       "      <th>1</th>\n",
       "      <td>20150602</td>\n",
       "      <td>Maharashtra</td>\n",
       "      <td>SC</td>\n",
       "      <td>M</td>\n",
       "    </tr>\n",
       "    <tr>\n",
       "      <th>2</th>\n",
       "      <td>20150603</td>\n",
       "      <td>Maharashtra</td>\n",
       "      <td>ST</td>\n",
       "      <td>M</td>\n",
       "    </tr>\n",
       "    <tr>\n",
       "      <th>3</th>\n",
       "      <td>20150604</td>\n",
       "      <td>JK</td>\n",
       "      <td>GEN</td>\n",
       "      <td>F</td>\n",
       "    </tr>\n",
       "    <tr>\n",
       "      <th>4</th>\n",
       "      <td>20150605</td>\n",
       "      <td>Nagaland</td>\n",
       "      <td>GEN</td>\n",
       "      <td>M</td>\n",
       "    </tr>\n",
       "  </tbody>\n",
       "</table>\n",
       "</div>"
      ],
      "text/plain": [
       "        RNO        State Category Gender\n",
       "0  20150601  Maharashtra      OBC      F\n",
       "1  20150602  Maharashtra       SC      M\n",
       "2  20150603  Maharashtra       ST      M\n",
       "3  20150604           JK      GEN      F\n",
       "4  20150605     Nagaland      GEN      M"
      ]
     },
     "execution_count": 12,
     "metadata": {},
     "output_type": "execute_result"
    }
   ],
   "source": [
    "df.head()"
   ]
  },
  {
   "cell_type": "markdown",
   "metadata": {
    "papermill": {
     "duration": 0.027865,
     "end_time": "2020-10-26T02:34:52.909238",
     "exception": false,
     "start_time": "2020-10-26T02:34:52.881373",
     "status": "completed"
    },
    "tags": []
   },
   "source": [
    "**4) Converting Categorical Data to Numeric data through LabelEncoder from Scikit-Learn 5 Converting Categorical Data to Numeric data through onehot encoding using Pandas dummy method**"
   ]
  },
  {
   "cell_type": "code",
   "execution_count": 13,
   "metadata": {
    "execution": {
     "iopub.execute_input": "2020-10-26T02:34:52.979017Z",
     "iopub.status.busy": "2020-10-26T02:34:52.978013Z",
     "iopub.status.idle": "2020-10-26T02:34:52.982903Z",
     "shell.execute_reply": "2020-10-26T02:34:52.982173Z"
    },
    "papermill": {
     "duration": 0.045887,
     "end_time": "2020-10-26T02:34:52.983028",
     "exception": false,
     "start_time": "2020-10-26T02:34:52.937141",
     "status": "completed"
    },
    "tags": []
   },
   "outputs": [
    {
     "data": {
      "text/html": [
       "<div>\n",
       "<style scoped>\n",
       "    .dataframe tbody tr th:only-of-type {\n",
       "        vertical-align: middle;\n",
       "    }\n",
       "\n",
       "    .dataframe tbody tr th {\n",
       "        vertical-align: top;\n",
       "    }\n",
       "\n",
       "    .dataframe thead th {\n",
       "        text-align: right;\n",
       "    }\n",
       "</style>\n",
       "<table border=\"1\" class=\"dataframe\">\n",
       "  <thead>\n",
       "    <tr style=\"text-align: right;\">\n",
       "      <th></th>\n",
       "      <th>RNO</th>\n",
       "      <th>State</th>\n",
       "      <th>Category</th>\n",
       "      <th>Gender</th>\n",
       "    </tr>\n",
       "  </thead>\n",
       "  <tbody>\n",
       "    <tr>\n",
       "      <th>0</th>\n",
       "      <td>20150601</td>\n",
       "      <td>1</td>\n",
       "      <td>OBC</td>\n",
       "      <td>F</td>\n",
       "    </tr>\n",
       "    <tr>\n",
       "      <th>1</th>\n",
       "      <td>20150602</td>\n",
       "      <td>1</td>\n",
       "      <td>SC</td>\n",
       "      <td>M</td>\n",
       "    </tr>\n",
       "    <tr>\n",
       "      <th>2</th>\n",
       "      <td>20150603</td>\n",
       "      <td>1</td>\n",
       "      <td>ST</td>\n",
       "      <td>M</td>\n",
       "    </tr>\n",
       "    <tr>\n",
       "      <th>3</th>\n",
       "      <td>20150604</td>\n",
       "      <td>0</td>\n",
       "      <td>GEN</td>\n",
       "      <td>F</td>\n",
       "    </tr>\n",
       "    <tr>\n",
       "      <th>4</th>\n",
       "      <td>20150605</td>\n",
       "      <td>2</td>\n",
       "      <td>GEN</td>\n",
       "      <td>M</td>\n",
       "    </tr>\n",
       "  </tbody>\n",
       "</table>\n",
       "</div>"
      ],
      "text/plain": [
       "        RNO  State Category Gender\n",
       "0  20150601      1      OBC      F\n",
       "1  20150602      1       SC      M\n",
       "2  20150603      1       ST      M\n",
       "3  20150604      0      GEN      F\n",
       "4  20150605      2      GEN      M"
      ]
     },
     "execution_count": 13,
     "metadata": {},
     "output_type": "execute_result"
    }
   ],
   "source": [
    "from sklearn.preprocessing import LabelEncoder\n",
    "\n",
    "lb = LabelEncoder()\n",
    "df['State'] = lb.fit_transform(df['State'])\n",
    "df.head()"
   ]
  },
  {
   "cell_type": "code",
   "execution_count": 14,
   "metadata": {
    "execution": {
     "iopub.execute_input": "2020-10-26T02:34:53.060069Z",
     "iopub.status.busy": "2020-10-26T02:34:53.050183Z",
     "iopub.status.idle": "2020-10-26T02:34:53.063853Z",
     "shell.execute_reply": "2020-10-26T02:34:53.064393Z"
    },
    "papermill": {
     "duration": 0.051916,
     "end_time": "2020-10-26T02:34:53.064561",
     "exception": false,
     "start_time": "2020-10-26T02:34:53.012645",
     "status": "completed"
    },
    "tags": []
   },
   "outputs": [
    {
     "data": {
      "text/html": [
       "<div>\n",
       "<style scoped>\n",
       "    .dataframe tbody tr th:only-of-type {\n",
       "        vertical-align: middle;\n",
       "    }\n",
       "\n",
       "    .dataframe tbody tr th {\n",
       "        vertical-align: top;\n",
       "    }\n",
       "\n",
       "    .dataframe thead th {\n",
       "        text-align: right;\n",
       "    }\n",
       "</style>\n",
       "<table border=\"1\" class=\"dataframe\">\n",
       "  <thead>\n",
       "    <tr style=\"text-align: right;\">\n",
       "      <th></th>\n",
       "      <th>RNO</th>\n",
       "      <th>State</th>\n",
       "      <th>Gender</th>\n",
       "      <th>Cat_GEN</th>\n",
       "      <th>Cat_OBC</th>\n",
       "      <th>Cat_SC</th>\n",
       "      <th>Cat_ST</th>\n",
       "    </tr>\n",
       "  </thead>\n",
       "  <tbody>\n",
       "    <tr>\n",
       "      <th>0</th>\n",
       "      <td>20150601</td>\n",
       "      <td>1</td>\n",
       "      <td>F</td>\n",
       "      <td>0</td>\n",
       "      <td>1</td>\n",
       "      <td>0</td>\n",
       "      <td>0</td>\n",
       "    </tr>\n",
       "    <tr>\n",
       "      <th>1</th>\n",
       "      <td>20150602</td>\n",
       "      <td>1</td>\n",
       "      <td>M</td>\n",
       "      <td>0</td>\n",
       "      <td>0</td>\n",
       "      <td>1</td>\n",
       "      <td>0</td>\n",
       "    </tr>\n",
       "    <tr>\n",
       "      <th>2</th>\n",
       "      <td>20150603</td>\n",
       "      <td>1</td>\n",
       "      <td>M</td>\n",
       "      <td>0</td>\n",
       "      <td>0</td>\n",
       "      <td>0</td>\n",
       "      <td>1</td>\n",
       "    </tr>\n",
       "    <tr>\n",
       "      <th>3</th>\n",
       "      <td>20150604</td>\n",
       "      <td>0</td>\n",
       "      <td>F</td>\n",
       "      <td>1</td>\n",
       "      <td>0</td>\n",
       "      <td>0</td>\n",
       "      <td>0</td>\n",
       "    </tr>\n",
       "    <tr>\n",
       "      <th>4</th>\n",
       "      <td>20150605</td>\n",
       "      <td>2</td>\n",
       "      <td>M</td>\n",
       "      <td>1</td>\n",
       "      <td>0</td>\n",
       "      <td>0</td>\n",
       "      <td>0</td>\n",
       "    </tr>\n",
       "  </tbody>\n",
       "</table>\n",
       "</div>"
      ],
      "text/plain": [
       "        RNO  State Gender  Cat_GEN  Cat_OBC  Cat_SC  Cat_ST\n",
       "0  20150601      1      F        0        1       0       0\n",
       "1  20150602      1      M        0        0       1       0\n",
       "2  20150603      1      M        0        0       0       1\n",
       "3  20150604      0      F        1        0       0       0\n",
       "4  20150605      2      M        1        0       0       0"
      ]
     },
     "execution_count": 14,
     "metadata": {},
     "output_type": "execute_result"
    }
   ],
   "source": [
    "df = pd.get_dummies(df, columns=['Category'], prefix = ['Cat'])\n",
    "df.head()"
   ]
  },
  {
   "cell_type": "code",
   "execution_count": 15,
   "metadata": {
    "execution": {
     "iopub.execute_input": "2020-10-26T02:34:53.138331Z",
     "iopub.status.busy": "2020-10-26T02:34:53.137253Z",
     "iopub.status.idle": "2020-10-26T02:34:53.140990Z",
     "shell.execute_reply": "2020-10-26T02:34:53.141584Z"
    },
    "papermill": {
     "duration": 0.047658,
     "end_time": "2020-10-26T02:34:53.141756",
     "exception": false,
     "start_time": "2020-10-26T02:34:53.094098",
     "status": "completed"
    },
    "tags": []
   },
   "outputs": [
    {
     "name": "stdout",
     "output_type": "stream",
     "text": [
      "<class 'pandas.core.frame.DataFrame'>\n",
      "RangeIndex: 5 entries, 0 to 4\n",
      "Data columns (total 7 columns):\n",
      " #   Column   Non-Null Count  Dtype \n",
      "---  ------   --------------  ----- \n",
      " 0   RNO      5 non-null      int64 \n",
      " 1   State    5 non-null      int64 \n",
      " 2   Gender   5 non-null      object\n",
      " 3   Cat_GEN  5 non-null      uint8 \n",
      " 4   Cat_OBC  5 non-null      uint8 \n",
      " 5   Cat_SC   5 non-null      uint8 \n",
      " 6   Cat_ST   5 non-null      uint8 \n",
      "dtypes: int64(2), object(1), uint8(4)\n",
      "memory usage: 268.0+ bytes\n"
     ]
    }
   ],
   "source": [
    "df.info()"
   ]
  },
  {
   "cell_type": "code",
   "execution_count": 16,
   "metadata": {
    "execution": {
     "iopub.execute_input": "2020-10-26T02:34:53.224521Z",
     "iopub.status.busy": "2020-10-26T02:34:53.222353Z",
     "iopub.status.idle": "2020-10-26T02:34:53.248982Z",
     "shell.execute_reply": "2020-10-26T02:34:53.248189Z"
    },
    "papermill": {
     "duration": 0.073302,
     "end_time": "2020-10-26T02:34:53.249111",
     "exception": false,
     "start_time": "2020-10-26T02:34:53.175809",
     "status": "completed"
    },
    "tags": []
   },
   "outputs": [
    {
     "data": {
      "text/html": [
       "<div>\n",
       "<style scoped>\n",
       "    .dataframe tbody tr th:only-of-type {\n",
       "        vertical-align: middle;\n",
       "    }\n",
       "\n",
       "    .dataframe tbody tr th {\n",
       "        vertical-align: top;\n",
       "    }\n",
       "\n",
       "    .dataframe thead th {\n",
       "        text-align: right;\n",
       "    }\n",
       "</style>\n",
       "<table border=\"1\" class=\"dataframe\">\n",
       "  <thead>\n",
       "    <tr style=\"text-align: right;\">\n",
       "      <th></th>\n",
       "      <th>RNO</th>\n",
       "      <th>State</th>\n",
       "      <th>Cat_GEN</th>\n",
       "      <th>Cat_OBC</th>\n",
       "      <th>Cat_SC</th>\n",
       "      <th>Cat_ST</th>\n",
       "    </tr>\n",
       "  </thead>\n",
       "  <tbody>\n",
       "    <tr>\n",
       "      <th>count</th>\n",
       "      <td>5.000000e+00</td>\n",
       "      <td>5.000000</td>\n",
       "      <td>5.000000</td>\n",
       "      <td>5.000000</td>\n",
       "      <td>5.000000</td>\n",
       "      <td>5.000000</td>\n",
       "    </tr>\n",
       "    <tr>\n",
       "      <th>mean</th>\n",
       "      <td>2.015060e+07</td>\n",
       "      <td>1.000000</td>\n",
       "      <td>0.400000</td>\n",
       "      <td>0.200000</td>\n",
       "      <td>0.200000</td>\n",
       "      <td>0.200000</td>\n",
       "    </tr>\n",
       "    <tr>\n",
       "      <th>std</th>\n",
       "      <td>1.581139e+00</td>\n",
       "      <td>0.707107</td>\n",
       "      <td>0.547723</td>\n",
       "      <td>0.447214</td>\n",
       "      <td>0.447214</td>\n",
       "      <td>0.447214</td>\n",
       "    </tr>\n",
       "    <tr>\n",
       "      <th>min</th>\n",
       "      <td>2.015060e+07</td>\n",
       "      <td>0.000000</td>\n",
       "      <td>0.000000</td>\n",
       "      <td>0.000000</td>\n",
       "      <td>0.000000</td>\n",
       "      <td>0.000000</td>\n",
       "    </tr>\n",
       "    <tr>\n",
       "      <th>25%</th>\n",
       "      <td>2.015060e+07</td>\n",
       "      <td>1.000000</td>\n",
       "      <td>0.000000</td>\n",
       "      <td>0.000000</td>\n",
       "      <td>0.000000</td>\n",
       "      <td>0.000000</td>\n",
       "    </tr>\n",
       "    <tr>\n",
       "      <th>50%</th>\n",
       "      <td>2.015060e+07</td>\n",
       "      <td>1.000000</td>\n",
       "      <td>0.000000</td>\n",
       "      <td>0.000000</td>\n",
       "      <td>0.000000</td>\n",
       "      <td>0.000000</td>\n",
       "    </tr>\n",
       "    <tr>\n",
       "      <th>75%</th>\n",
       "      <td>2.015060e+07</td>\n",
       "      <td>1.000000</td>\n",
       "      <td>1.000000</td>\n",
       "      <td>0.000000</td>\n",
       "      <td>0.000000</td>\n",
       "      <td>0.000000</td>\n",
       "    </tr>\n",
       "    <tr>\n",
       "      <th>max</th>\n",
       "      <td>2.015060e+07</td>\n",
       "      <td>2.000000</td>\n",
       "      <td>1.000000</td>\n",
       "      <td>1.000000</td>\n",
       "      <td>1.000000</td>\n",
       "      <td>1.000000</td>\n",
       "    </tr>\n",
       "  </tbody>\n",
       "</table>\n",
       "</div>"
      ],
      "text/plain": [
       "                RNO     State   Cat_GEN   Cat_OBC    Cat_SC    Cat_ST\n",
       "count  5.000000e+00  5.000000  5.000000  5.000000  5.000000  5.000000\n",
       "mean   2.015060e+07  1.000000  0.400000  0.200000  0.200000  0.200000\n",
       "std    1.581139e+00  0.707107  0.547723  0.447214  0.447214  0.447214\n",
       "min    2.015060e+07  0.000000  0.000000  0.000000  0.000000  0.000000\n",
       "25%    2.015060e+07  1.000000  0.000000  0.000000  0.000000  0.000000\n",
       "50%    2.015060e+07  1.000000  0.000000  0.000000  0.000000  0.000000\n",
       "75%    2.015060e+07  1.000000  1.000000  0.000000  0.000000  0.000000\n",
       "max    2.015060e+07  2.000000  1.000000  1.000000  1.000000  1.000000"
      ]
     },
     "execution_count": 16,
     "metadata": {},
     "output_type": "execute_result"
    }
   ],
   "source": [
    "df.describe()"
   ]
  },
  {
   "cell_type": "code",
   "execution_count": 17,
   "metadata": {
    "execution": {
     "iopub.execute_input": "2020-10-26T02:34:53.318187Z",
     "iopub.status.busy": "2020-10-26T02:34:53.317252Z",
     "iopub.status.idle": "2020-10-26T02:34:53.319545Z",
     "shell.execute_reply": "2020-10-26T02:34:53.320126Z"
    },
    "papermill": {
     "duration": 0.039496,
     "end_time": "2020-10-26T02:34:53.320295",
     "exception": false,
     "start_time": "2020-10-26T02:34:53.280799",
     "status": "completed"
    },
    "tags": []
   },
   "outputs": [],
   "source": [
    "from sklearn.preprocessing import LabelEncoder\n",
    "\n",
    "lb = LabelEncoder()\n",
    "df['State'] = lb.fit_transform(df['State'])"
   ]
  },
  {
   "cell_type": "code",
   "execution_count": 18,
   "metadata": {
    "execution": {
     "iopub.execute_input": "2020-10-26T02:34:53.394917Z",
     "iopub.status.busy": "2020-10-26T02:34:53.393974Z",
     "iopub.status.idle": "2020-10-26T02:34:53.398344Z",
     "shell.execute_reply": "2020-10-26T02:34:53.397670Z"
    },
    "papermill": {
     "duration": 0.047357,
     "end_time": "2020-10-26T02:34:53.398472",
     "exception": false,
     "start_time": "2020-10-26T02:34:53.351115",
     "status": "completed"
    },
    "tags": []
   },
   "outputs": [
    {
     "name": "stdout",
     "output_type": "stream",
     "text": [
      "<class 'pandas.core.frame.DataFrame'>\n",
      "RangeIndex: 5 entries, 0 to 4\n",
      "Data columns (total 7 columns):\n",
      " #   Column   Non-Null Count  Dtype \n",
      "---  ------   --------------  ----- \n",
      " 0   RNO      5 non-null      int64 \n",
      " 1   State    5 non-null      int64 \n",
      " 2   Gender   5 non-null      object\n",
      " 3   Cat_GEN  5 non-null      uint8 \n",
      " 4   Cat_OBC  5 non-null      uint8 \n",
      " 5   Cat_SC   5 non-null      uint8 \n",
      " 6   Cat_ST   5 non-null      uint8 \n",
      "dtypes: int64(2), object(1), uint8(4)\n",
      "memory usage: 268.0+ bytes\n"
     ]
    }
   ],
   "source": [
    "df.info()"
   ]
  },
  {
   "cell_type": "code",
   "execution_count": 19,
   "metadata": {
    "execution": {
     "iopub.execute_input": "2020-10-26T02:34:53.473516Z",
     "iopub.status.busy": "2020-10-26T02:34:53.472694Z",
     "iopub.status.idle": "2020-10-26T02:34:53.477545Z",
     "shell.execute_reply": "2020-10-26T02:34:53.476821Z"
    },
    "papermill": {
     "duration": 0.047972,
     "end_time": "2020-10-26T02:34:53.477690",
     "exception": false,
     "start_time": "2020-10-26T02:34:53.429718",
     "status": "completed"
    },
    "tags": []
   },
   "outputs": [
    {
     "data": {
      "text/html": [
       "<div>\n",
       "<style scoped>\n",
       "    .dataframe tbody tr th:only-of-type {\n",
       "        vertical-align: middle;\n",
       "    }\n",
       "\n",
       "    .dataframe tbody tr th {\n",
       "        vertical-align: top;\n",
       "    }\n",
       "\n",
       "    .dataframe thead th {\n",
       "        text-align: right;\n",
       "    }\n",
       "</style>\n",
       "<table border=\"1\" class=\"dataframe\">\n",
       "  <thead>\n",
       "    <tr style=\"text-align: right;\">\n",
       "      <th></th>\n",
       "      <th>RNO</th>\n",
       "      <th>State</th>\n",
       "      <th>Gender</th>\n",
       "      <th>Cat_GEN</th>\n",
       "      <th>Cat_OBC</th>\n",
       "      <th>Cat_SC</th>\n",
       "      <th>Cat_ST</th>\n",
       "    </tr>\n",
       "  </thead>\n",
       "  <tbody>\n",
       "    <tr>\n",
       "      <th>0</th>\n",
       "      <td>20150601</td>\n",
       "      <td>1</td>\n",
       "      <td>F</td>\n",
       "      <td>0</td>\n",
       "      <td>1</td>\n",
       "      <td>0</td>\n",
       "      <td>0</td>\n",
       "    </tr>\n",
       "    <tr>\n",
       "      <th>1</th>\n",
       "      <td>20150602</td>\n",
       "      <td>1</td>\n",
       "      <td>M</td>\n",
       "      <td>0</td>\n",
       "      <td>0</td>\n",
       "      <td>1</td>\n",
       "      <td>0</td>\n",
       "    </tr>\n",
       "    <tr>\n",
       "      <th>2</th>\n",
       "      <td>20150603</td>\n",
       "      <td>1</td>\n",
       "      <td>M</td>\n",
       "      <td>0</td>\n",
       "      <td>0</td>\n",
       "      <td>0</td>\n",
       "      <td>1</td>\n",
       "    </tr>\n",
       "    <tr>\n",
       "      <th>3</th>\n",
       "      <td>20150604</td>\n",
       "      <td>0</td>\n",
       "      <td>F</td>\n",
       "      <td>1</td>\n",
       "      <td>0</td>\n",
       "      <td>0</td>\n",
       "      <td>0</td>\n",
       "    </tr>\n",
       "    <tr>\n",
       "      <th>4</th>\n",
       "      <td>20150605</td>\n",
       "      <td>2</td>\n",
       "      <td>M</td>\n",
       "      <td>1</td>\n",
       "      <td>0</td>\n",
       "      <td>0</td>\n",
       "      <td>0</td>\n",
       "    </tr>\n",
       "  </tbody>\n",
       "</table>\n",
       "</div>"
      ],
      "text/plain": [
       "        RNO  State Gender  Cat_GEN  Cat_OBC  Cat_SC  Cat_ST\n",
       "0  20150601      1      F        0        1       0       0\n",
       "1  20150602      1      M        0        0       1       0\n",
       "2  20150603      1      M        0        0       0       1\n",
       "3  20150604      0      F        1        0       0       0\n",
       "4  20150605      2      M        1        0       0       0"
      ]
     },
     "execution_count": 19,
     "metadata": {},
     "output_type": "execute_result"
    }
   ],
   "source": [
    "df.head()"
   ]
  },
  {
   "cell_type": "code",
   "execution_count": 20,
   "metadata": {
    "execution": {
     "iopub.execute_input": "2020-10-26T02:34:53.556580Z",
     "iopub.status.busy": "2020-10-26T02:34:53.554044Z",
     "iopub.status.idle": "2020-10-26T02:34:53.579273Z",
     "shell.execute_reply": "2020-10-26T02:34:53.578639Z"
    },
    "papermill": {
     "duration": 0.06958,
     "end_time": "2020-10-26T02:34:53.579403",
     "exception": false,
     "start_time": "2020-10-26T02:34:53.509823",
     "status": "completed"
    },
    "tags": []
   },
   "outputs": [
    {
     "data": {
      "text/html": [
       "<div>\n",
       "<style scoped>\n",
       "    .dataframe tbody tr th:only-of-type {\n",
       "        vertical-align: middle;\n",
       "    }\n",
       "\n",
       "    .dataframe tbody tr th {\n",
       "        vertical-align: top;\n",
       "    }\n",
       "\n",
       "    .dataframe thead th {\n",
       "        text-align: right;\n",
       "    }\n",
       "</style>\n",
       "<table border=\"1\" class=\"dataframe\">\n",
       "  <thead>\n",
       "    <tr style=\"text-align: right;\">\n",
       "      <th></th>\n",
       "      <th>RNO</th>\n",
       "      <th>State</th>\n",
       "      <th>Cat_GEN</th>\n",
       "      <th>Cat_OBC</th>\n",
       "      <th>Cat_SC</th>\n",
       "      <th>Cat_ST</th>\n",
       "    </tr>\n",
       "  </thead>\n",
       "  <tbody>\n",
       "    <tr>\n",
       "      <th>count</th>\n",
       "      <td>5.000000e+00</td>\n",
       "      <td>5.000000</td>\n",
       "      <td>5.000000</td>\n",
       "      <td>5.000000</td>\n",
       "      <td>5.000000</td>\n",
       "      <td>5.000000</td>\n",
       "    </tr>\n",
       "    <tr>\n",
       "      <th>mean</th>\n",
       "      <td>2.015060e+07</td>\n",
       "      <td>1.000000</td>\n",
       "      <td>0.400000</td>\n",
       "      <td>0.200000</td>\n",
       "      <td>0.200000</td>\n",
       "      <td>0.200000</td>\n",
       "    </tr>\n",
       "    <tr>\n",
       "      <th>std</th>\n",
       "      <td>1.581139e+00</td>\n",
       "      <td>0.707107</td>\n",
       "      <td>0.547723</td>\n",
       "      <td>0.447214</td>\n",
       "      <td>0.447214</td>\n",
       "      <td>0.447214</td>\n",
       "    </tr>\n",
       "    <tr>\n",
       "      <th>min</th>\n",
       "      <td>2.015060e+07</td>\n",
       "      <td>0.000000</td>\n",
       "      <td>0.000000</td>\n",
       "      <td>0.000000</td>\n",
       "      <td>0.000000</td>\n",
       "      <td>0.000000</td>\n",
       "    </tr>\n",
       "    <tr>\n",
       "      <th>25%</th>\n",
       "      <td>2.015060e+07</td>\n",
       "      <td>1.000000</td>\n",
       "      <td>0.000000</td>\n",
       "      <td>0.000000</td>\n",
       "      <td>0.000000</td>\n",
       "      <td>0.000000</td>\n",
       "    </tr>\n",
       "    <tr>\n",
       "      <th>50%</th>\n",
       "      <td>2.015060e+07</td>\n",
       "      <td>1.000000</td>\n",
       "      <td>0.000000</td>\n",
       "      <td>0.000000</td>\n",
       "      <td>0.000000</td>\n",
       "      <td>0.000000</td>\n",
       "    </tr>\n",
       "    <tr>\n",
       "      <th>75%</th>\n",
       "      <td>2.015060e+07</td>\n",
       "      <td>1.000000</td>\n",
       "      <td>1.000000</td>\n",
       "      <td>0.000000</td>\n",
       "      <td>0.000000</td>\n",
       "      <td>0.000000</td>\n",
       "    </tr>\n",
       "    <tr>\n",
       "      <th>max</th>\n",
       "      <td>2.015060e+07</td>\n",
       "      <td>2.000000</td>\n",
       "      <td>1.000000</td>\n",
       "      <td>1.000000</td>\n",
       "      <td>1.000000</td>\n",
       "      <td>1.000000</td>\n",
       "    </tr>\n",
       "  </tbody>\n",
       "</table>\n",
       "</div>"
      ],
      "text/plain": [
       "                RNO     State   Cat_GEN   Cat_OBC    Cat_SC    Cat_ST\n",
       "count  5.000000e+00  5.000000  5.000000  5.000000  5.000000  5.000000\n",
       "mean   2.015060e+07  1.000000  0.400000  0.200000  0.200000  0.200000\n",
       "std    1.581139e+00  0.707107  0.547723  0.447214  0.447214  0.447214\n",
       "min    2.015060e+07  0.000000  0.000000  0.000000  0.000000  0.000000\n",
       "25%    2.015060e+07  1.000000  0.000000  0.000000  0.000000  0.000000\n",
       "50%    2.015060e+07  1.000000  0.000000  0.000000  0.000000  0.000000\n",
       "75%    2.015060e+07  1.000000  1.000000  0.000000  0.000000  0.000000\n",
       "max    2.015060e+07  2.000000  1.000000  1.000000  1.000000  1.000000"
      ]
     },
     "execution_count": 20,
     "metadata": {},
     "output_type": "execute_result"
    }
   ],
   "source": [
    "df.describe()"
   ]
  }
 ],
 "metadata": {
  "kernelspec": {
   "display_name": "Python 3",
   "language": "python",
   "name": "python3"
  },
  "language_info": {
   "codemirror_mode": {
    "name": "ipython",
    "version": 3
   },
   "file_extension": ".py",
   "mimetype": "text/x-python",
   "name": "python",
   "nbconvert_exporter": "python",
   "pygments_lexer": "ipython3",
   "version": "3.7.6"
  },
  "papermill": {
   "duration": 7.943862,
   "end_time": "2020-10-26T02:34:53.720981",
   "environment_variables": {},
   "exception": null,
   "input_path": "__notebook__.ipynb",
   "output_path": "__notebook__.ipynb",
   "parameters": {},
   "start_time": "2020-10-26T02:34:45.777119",
   "version": "2.1.0"
  }
 },
 "nbformat": 4,
 "nbformat_minor": 4
}
