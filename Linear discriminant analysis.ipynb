{
 "cells": [
  {
   "cell_type": "markdown",
   "metadata": {
    "papermill": {
     "duration": 0.009836,
     "end_time": "2020-11-20T14:28:59.619578",
     "exception": false,
     "start_time": "2020-11-20T14:28:59.609742",
     "status": "completed"
    },
    "tags": []
   },
   "source": [
    "**Importing Libraries**"
   ]
  },
  {
   "cell_type": "code",
   "execution_count": 1,
   "metadata": {
    "_cell_guid": "79c7e3d0-c299-4dcb-8224-4455121ee9b0",
    "_uuid": "d629ff2d2480ee46fbb7e2d37f6b5fab8052498a",
    "execution": {
     "iopub.execute_input": "2020-11-20T14:28:59.645099Z",
     "iopub.status.busy": "2020-11-20T14:28:59.644326Z",
     "iopub.status.idle": "2020-11-20T14:29:00.563000Z",
     "shell.execute_reply": "2020-11-20T14:29:00.562280Z"
    },
    "papermill": {
     "duration": 0.932752,
     "end_time": "2020-11-20T14:29:00.563133",
     "exception": false,
     "start_time": "2020-11-20T14:28:59.630381",
     "status": "completed"
    },
    "tags": []
   },
   "outputs": [],
   "source": [
    "import pandas as pd\n",
    "import numpy as np\n",
    "from sklearn.preprocessing import MinMaxScaler\n",
    "from sklearn.preprocessing import  StandardScaler\n"
   ]
  },
  {
   "cell_type": "markdown",
   "metadata": {
    "papermill": {
     "duration": 0.008694,
     "end_time": "2020-11-20T14:29:00.581224",
     "exception": false,
     "start_time": "2020-11-20T14:29:00.572530",
     "status": "completed"
    },
    "tags": []
   },
   "source": [
    "**Loading Data**"
   ]
  },
  {
   "cell_type": "code",
   "execution_count": 2,
   "metadata": {
    "execution": {
     "iopub.execute_input": "2020-11-20T14:29:00.607808Z",
     "iopub.status.busy": "2020-11-20T14:29:00.606681Z",
     "iopub.status.idle": "2020-11-20T14:29:00.630459Z",
     "shell.execute_reply": "2020-11-20T14:29:00.629891Z"
    },
    "papermill": {
     "duration": 0.040555,
     "end_time": "2020-11-20T14:29:00.630584",
     "exception": false,
     "start_time": "2020-11-20T14:29:00.590029",
     "status": "completed"
    },
    "tags": []
   },
   "outputs": [
    {
     "data": {
      "text/html": [
       "<div>\n",
       "<style scoped>\n",
       "    .dataframe tbody tr th:only-of-type {\n",
       "        vertical-align: middle;\n",
       "    }\n",
       "\n",
       "    .dataframe tbody tr th {\n",
       "        vertical-align: top;\n",
       "    }\n",
       "\n",
       "    .dataframe thead th {\n",
       "        text-align: right;\n",
       "    }\n",
       "</style>\n",
       "<table border=\"1\" class=\"dataframe\">\n",
       "  <thead>\n",
       "    <tr style=\"text-align: right;\">\n",
       "      <th></th>\n",
       "      <th>Obs</th>\n",
       "      <th>ID</th>\n",
       "      <th>AGE</th>\n",
       "      <th>agrp</th>\n",
       "      <th>CHD</th>\n",
       "    </tr>\n",
       "  </thead>\n",
       "  <tbody>\n",
       "    <tr>\n",
       "      <th>0</th>\n",
       "      <td>1</td>\n",
       "      <td>1</td>\n",
       "      <td>20</td>\n",
       "      <td>1</td>\n",
       "      <td>0</td>\n",
       "    </tr>\n",
       "    <tr>\n",
       "      <th>1</th>\n",
       "      <td>2</td>\n",
       "      <td>2</td>\n",
       "      <td>23</td>\n",
       "      <td>1</td>\n",
       "      <td>0</td>\n",
       "    </tr>\n",
       "    <tr>\n",
       "      <th>2</th>\n",
       "      <td>3</td>\n",
       "      <td>3</td>\n",
       "      <td>24</td>\n",
       "      <td>1</td>\n",
       "      <td>0</td>\n",
       "    </tr>\n",
       "    <tr>\n",
       "      <th>3</th>\n",
       "      <td>4</td>\n",
       "      <td>4</td>\n",
       "      <td>25</td>\n",
       "      <td>1</td>\n",
       "      <td>0</td>\n",
       "    </tr>\n",
       "    <tr>\n",
       "      <th>4</th>\n",
       "      <td>5</td>\n",
       "      <td>5</td>\n",
       "      <td>25</td>\n",
       "      <td>1</td>\n",
       "      <td>1</td>\n",
       "    </tr>\n",
       "  </tbody>\n",
       "</table>\n",
       "</div>"
      ],
      "text/plain": [
       "   Obs  ID  AGE  agrp  CHD\n",
       "0    1   1   20     1    0\n",
       "1    2   2   23     1    0\n",
       "2    3   3   24     1    0\n",
       "3    4   4   25     1    0\n",
       "4    5   5   25     1    1"
      ]
     },
     "execution_count": 2,
     "metadata": {},
     "output_type": "execute_result"
    }
   ],
   "source": [
    "df= pd.read_csv('../input/coronary-hear-disease/chd - chd.csv')\n",
    "df.head()"
   ]
  },
  {
   "cell_type": "code",
   "execution_count": 3,
   "metadata": {
    "execution": {
     "iopub.execute_input": "2020-11-20T14:29:00.661142Z",
     "iopub.status.busy": "2020-11-20T14:29:00.660282Z",
     "iopub.status.idle": "2020-11-20T14:29:00.664247Z",
     "shell.execute_reply": "2020-11-20T14:29:00.663540Z"
    },
    "papermill": {
     "duration": 0.023744,
     "end_time": "2020-11-20T14:29:00.664363",
     "exception": false,
     "start_time": "2020-11-20T14:29:00.640619",
     "status": "completed"
    },
    "tags": []
   },
   "outputs": [
    {
     "data": {
      "text/html": [
       "<div>\n",
       "<style scoped>\n",
       "    .dataframe tbody tr th:only-of-type {\n",
       "        vertical-align: middle;\n",
       "    }\n",
       "\n",
       "    .dataframe tbody tr th {\n",
       "        vertical-align: top;\n",
       "    }\n",
       "\n",
       "    .dataframe thead th {\n",
       "        text-align: right;\n",
       "    }\n",
       "</style>\n",
       "<table border=\"1\" class=\"dataframe\">\n",
       "  <thead>\n",
       "    <tr style=\"text-align: right;\">\n",
       "      <th></th>\n",
       "      <th>AGE</th>\n",
       "      <th>CHD</th>\n",
       "    </tr>\n",
       "  </thead>\n",
       "  <tbody>\n",
       "    <tr>\n",
       "      <th>0</th>\n",
       "      <td>20</td>\n",
       "      <td>0</td>\n",
       "    </tr>\n",
       "    <tr>\n",
       "      <th>1</th>\n",
       "      <td>23</td>\n",
       "      <td>0</td>\n",
       "    </tr>\n",
       "    <tr>\n",
       "      <th>2</th>\n",
       "      <td>24</td>\n",
       "      <td>0</td>\n",
       "    </tr>\n",
       "    <tr>\n",
       "      <th>3</th>\n",
       "      <td>25</td>\n",
       "      <td>0</td>\n",
       "    </tr>\n",
       "    <tr>\n",
       "      <th>4</th>\n",
       "      <td>25</td>\n",
       "      <td>1</td>\n",
       "    </tr>\n",
       "  </tbody>\n",
       "</table>\n",
       "</div>"
      ],
      "text/plain": [
       "   AGE  CHD\n",
       "0   20    0\n",
       "1   23    0\n",
       "2   24    0\n",
       "3   25    0\n",
       "4   25    1"
      ]
     },
     "execution_count": 3,
     "metadata": {},
     "output_type": "execute_result"
    }
   ],
   "source": [
    "df1 =df.loc[:, ['AGE', 'CHD']]\n",
    "df1.head()"
   ]
  },
  {
   "cell_type": "code",
   "execution_count": 4,
   "metadata": {
    "execution": {
     "iopub.execute_input": "2020-11-20T14:29:00.690857Z",
     "iopub.status.busy": "2020-11-20T14:29:00.689941Z",
     "iopub.status.idle": "2020-11-20T14:29:00.693504Z",
     "shell.execute_reply": "2020-11-20T14:29:00.692803Z"
    },
    "papermill": {
     "duration": 0.019,
     "end_time": "2020-11-20T14:29:00.693616",
     "exception": false,
     "start_time": "2020-11-20T14:29:00.674616",
     "status": "completed"
    },
    "tags": []
   },
   "outputs": [],
   "source": [
    "X = df1.iloc[:, :-1].values\n",
    "y = df.iloc[:, -1].values\n"
   ]
  },
  {
   "cell_type": "markdown",
   "metadata": {
    "papermill": {
     "duration": 0.010165,
     "end_time": "2020-11-20T14:29:00.714286",
     "exception": false,
     "start_time": "2020-11-20T14:29:00.704121",
     "status": "completed"
    },
    "tags": []
   },
   "source": [
    "**Linear Discriminant Analysis**"
   ]
  },
  {
   "cell_type": "code",
   "execution_count": 5,
   "metadata": {
    "execution": {
     "iopub.execute_input": "2020-11-20T14:29:00.741117Z",
     "iopub.status.busy": "2020-11-20T14:29:00.740225Z",
     "iopub.status.idle": "2020-11-20T14:29:00.961271Z",
     "shell.execute_reply": "2020-11-20T14:29:00.960516Z"
    },
    "papermill": {
     "duration": 0.236713,
     "end_time": "2020-11-20T14:29:00.961433",
     "exception": false,
     "start_time": "2020-11-20T14:29:00.724720",
     "status": "completed"
    },
    "tags": []
   },
   "outputs": [],
   "source": [
    "from sklearn.discriminant_analysis import LinearDiscriminantAnalysis\n",
    "lda = LinearDiscriminantAnalysis()\n",
    "lda.fit(X, y)\n",
    "yp= lda.predict(X)"
   ]
  },
  {
   "cell_type": "code",
   "execution_count": 6,
   "metadata": {
    "execution": {
     "iopub.execute_input": "2020-11-20T14:29:00.995042Z",
     "iopub.status.busy": "2020-11-20T14:29:00.993888Z",
     "iopub.status.idle": "2020-11-20T14:29:00.998554Z",
     "shell.execute_reply": "2020-11-20T14:29:00.997932Z"
    },
    "papermill": {
     "duration": 0.023955,
     "end_time": "2020-11-20T14:29:00.998669",
     "exception": false,
     "start_time": "2020-11-20T14:29:00.974714",
     "status": "completed"
    },
    "tags": []
   },
   "outputs": [
    {
     "data": {
      "text/plain": [
       "array([-3.27093953, -2.91548011, -2.79699364, -2.67850717, -2.67850717,\n",
       "       -2.56002069, -2.56002069, -2.32304775, -2.32304775, -2.20456127,\n",
       "       -2.0860748 , -2.0860748 , -2.0860748 , -2.0860748 , -2.0860748 ,\n",
       "       -2.0860748 , -1.84910185, -1.84910185, -1.73061538, -1.73061538,\n",
       "       -1.61212891, -1.61212891, -1.61212891, -1.61212891, -1.61212891,\n",
       "       -1.49364243, -1.49364243, -1.37515596, -1.37515596, -1.37515596,\n",
       "       -1.25666949, -1.25666949, -1.25666949, -1.13818301, -1.13818301,\n",
       "       -1.01969654, -1.01969654, -0.90121007, -0.90121007, -0.78272359,\n",
       "       -0.78272359, -0.66423712, -0.66423712, -0.66423712, -0.66423712,\n",
       "       -0.54575065, -0.54575065, -0.54575065, -0.42726417, -0.42726417,\n",
       "       -0.42726417, -0.42726417, -0.3087777 , -0.3087777 , -0.19029123,\n",
       "       -0.19029123, -0.07180475, -0.07180475, -0.07180475,  0.04668172,\n",
       "        0.04668172,  0.04668172,  0.16516819,  0.16516819,  0.16516819,\n",
       "        0.28365467,  0.28365467,  0.40214114,  0.52062762,  0.52062762,\n",
       "        0.63911409,  0.63911409,  0.75760056,  0.87608704,  0.87608704,\n",
       "        0.87608704,  0.99457351,  0.99457351,  0.99457351,  1.11305998,\n",
       "        1.11305998,  1.11305998,  1.11305998,  1.11305998,  1.11305998,\n",
       "        1.23154646,  1.23154646,  1.23154646,  1.35003293,  1.35003293,\n",
       "        1.4685194 ,  1.4685194 ,  1.58700588,  1.70549235,  1.70549235,\n",
       "        1.82397882,  1.9424653 ,  1.9424653 ,  2.06095177,  2.53489766])"
      ]
     },
     "execution_count": 6,
     "metadata": {},
     "output_type": "execute_result"
    }
   ],
   "source": [
    "lda.decision_function(X)"
   ]
  },
  {
   "cell_type": "code",
   "execution_count": 7,
   "metadata": {
    "execution": {
     "iopub.execute_input": "2020-11-20T14:29:01.028773Z",
     "iopub.status.busy": "2020-11-20T14:29:01.027748Z",
     "iopub.status.idle": "2020-11-20T14:29:01.032661Z",
     "shell.execute_reply": "2020-11-20T14:29:01.032086Z"
    },
    "papermill": {
     "duration": 0.022582,
     "end_time": "2020-11-20T14:29:01.032797",
     "exception": false,
     "start_time": "2020-11-20T14:29:01.010215",
     "status": "completed"
    },
    "tags": []
   },
   "outputs": [
    {
     "name": "stdout",
     "output_type": "stream",
     "text": [
      "[[45 12]\n",
      " [14 29]]\n"
     ]
    }
   ],
   "source": [
    "from sklearn.metrics import confusion_matrix\n",
    "confusion_matrix = confusion_matrix(y, yp)\n",
    "print(confusion_matrix)"
   ]
  },
  {
   "cell_type": "code",
   "execution_count": 8,
   "metadata": {
    "execution": {
     "iopub.execute_input": "2020-11-20T14:29:01.062335Z",
     "iopub.status.busy": "2020-11-20T14:29:01.061580Z",
     "iopub.status.idle": "2020-11-20T14:29:01.071245Z",
     "shell.execute_reply": "2020-11-20T14:29:01.071823Z"
    },
    "papermill": {
     "duration": 0.027203,
     "end_time": "2020-11-20T14:29:01.071967",
     "exception": false,
     "start_time": "2020-11-20T14:29:01.044764",
     "status": "completed"
    },
    "tags": []
   },
   "outputs": [
    {
     "name": "stdout",
     "output_type": "stream",
     "text": [
      "              precision    recall  f1-score   support\n",
      "\n",
      "           0       0.76      0.79      0.78        57\n",
      "           1       0.71      0.67      0.69        43\n",
      "\n",
      "    accuracy                           0.74       100\n",
      "   macro avg       0.74      0.73      0.73       100\n",
      "weighted avg       0.74      0.74      0.74       100\n",
      "\n"
     ]
    }
   ],
   "source": [
    "from sklearn.metrics import classification_report\n",
    "print(classification_report(y, yp))"
   ]
  }
 ],
 "metadata": {
  "kernelspec": {
   "display_name": "Python 3",
   "language": "python",
   "name": "python3"
  },
  "language_info": {
   "codemirror_mode": {
    "name": "ipython",
    "version": 3
   },
   "file_extension": ".py",
   "mimetype": "text/x-python",
   "name": "python",
   "nbconvert_exporter": "python",
   "pygments_lexer": "ipython3",
   "version": "3.7.6"
  },
  "papermill": {
   "duration": 6.177457,
   "end_time": "2020-11-20T14:29:01.192162",
   "environment_variables": {},
   "exception": null,
   "input_path": "__notebook__.ipynb",
   "output_path": "__notebook__.ipynb",
   "parameters": {},
   "start_time": "2020-11-20T14:28:55.014705",
   "version": "2.1.0"
  }
 },
 "nbformat": 4,
 "nbformat_minor": 4
}
